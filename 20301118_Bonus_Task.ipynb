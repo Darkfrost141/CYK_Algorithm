{
  "nbformat": 4,
  "nbformat_minor": 0,
  "metadata": {
    "colab": {
      "provenance": []
    },
    "kernelspec": {
      "name": "python3",
      "display_name": "Python 3"
    },
    "language_info": {
      "name": "python"
    }
  },
  "cells": [
    {
      "cell_type": "code",
      "source": [
        "def cyk(input_str, cfg):\n",
        "    n = len(input_str)\n",
        "    table = [[set() for _ in range(n)] for _ in range(n)]\n",
        "\n",
        "    # Initialize the diagonal of the table\n",
        "    for i in range(n):\n",
        "        for production in cfg:\n",
        "            if input_str[i] in production[1]:\n",
        "                table[i][i].add(production[0])\n",
        "\n",
        "    # Fill in the table\n",
        "    for length in range(2, n + 1):\n",
        "        for i in range(n - length + 1):\n",
        "            j = i + length - 1\n",
        "            for k in range(i, j):\n",
        "                for production in cfg:\n",
        "                    for left in table[i][k]:\n",
        "                        for right in table[k + 1][j]:\n",
        "                            if left + right in production[1]:\n",
        "                                table[i][j].add(production[0])\n",
        "\n",
        "    return table\n",
        "\n",
        "def print_cyk_table(table):\n",
        "    n = len(table)\n",
        "    for i in range(n):\n",
        "        for j in range(n - i):\n",
        "            print(f\"{i + 1},{j + 1}:\", \", \".join(table[j][j + i]))\n",
        "        print()\n",
        "\n",
        "# Example CFG rules\n",
        "cfg = [\n",
        "    (\"S\", \"AB\"),\n",
        "    (\"A\", \"BA\"),\n",
        "    (\"B\", \"a\"),\n",
        "    (\"B\", \"b\")\n",
        "]\n",
        "\n",
        "\n"
      ],
      "metadata": {
        "colab": {
          "base_uri": "https://localhost:8080/",
          "height": 245
        },
        "id": "Nz6iEXGPX9XP",
        "outputId": "f1ae35de-8924-4941-bfe5-c1763f7f33e6"
      },
      "execution_count": 11,
      "outputs": [
        {
          "output_type": "error",
          "ename": "ValueError",
          "evalue": "ignored",
          "traceback": [
            "\u001b[0;31m---------------------------------------------------------------------------\u001b[0m",
            "\u001b[0;31mValueError\u001b[0m                                Traceback (most recent call last)",
            "\u001b[0;32m<ipython-input-11-ae476f67f971>\u001b[0m in \u001b[0;36m<cell line: 40>\u001b[0;34m()\u001b[0m\n\u001b[1;32m     38\u001b[0m \u001b[0;34m\u001b[0m\u001b[0m\n\u001b[1;32m     39\u001b[0m \u001b[0minput_str\u001b[0m \u001b[0;34m=\u001b[0m \u001b[0;34m\"baabb\"\u001b[0m\u001b[0;34m\u001b[0m\u001b[0;34m\u001b[0m\u001b[0m\n\u001b[0;32m---> 40\u001b[0;31m \u001b[0mcyk_table\u001b[0m\u001b[0;34m,\u001b[0m \u001b[0mcyk_decision\u001b[0m \u001b[0;34m=\u001b[0m \u001b[0mcyk\u001b[0m\u001b[0;34m(\u001b[0m\u001b[0minput_str\u001b[0m\u001b[0;34m,\u001b[0m \u001b[0mcfg\u001b[0m\u001b[0;34m)\u001b[0m\u001b[0;34m\u001b[0m\u001b[0;34m\u001b[0m\u001b[0m\n\u001b[0m\u001b[1;32m     41\u001b[0m \u001b[0;31m# Print the CYK table\u001b[0m\u001b[0;34m\u001b[0m\u001b[0;34m\u001b[0m\u001b[0m\n\u001b[1;32m     42\u001b[0m \u001b[0mprint\u001b[0m\u001b[0;34m(\u001b[0m\u001b[0;34m\"CYK Table:\"\u001b[0m\u001b[0;34m)\u001b[0m\u001b[0;34m\u001b[0m\u001b[0;34m\u001b[0m\u001b[0m\n",
            "\u001b[0;31mValueError\u001b[0m: too many values to unpack (expected 2)"
          ]
        }
      ]
    },
    {
      "cell_type": "code",
      "source": [
        "def cyk_algorithm(input_str):\n",
        "    n = len(input_str)\n",
        "\n",
        "    # Create a table to store the CYK parsing results\n",
        "    table = [[set() for _ in range(n)] for _ in range(n)]\n",
        "\n",
        "    # Initialize the table with terminals based on the input string\n",
        "    for i in range(n):\n",
        "        table[i][i] = {char for char in input_str[i]}\n",
        "\n",
        "    # CYK parsing algorithm\n",
        "    for length in range(2, n + 1):\n",
        "        for i in range(n - length + 1):\n",
        "            j = i + length - 1\n",
        "            table[i][j] = set()\n",
        "            for k in range(i, j):\n",
        "                for production in productions:\n",
        "                    for a in table[i][k]:\n",
        "                        for b in table[k+1][j]:\n",
        "                            if (a, b) in production:\n",
        "                                table[i][j].add(production[0])\n",
        "\n",
        "    return table\n",
        "\n",
        "# Define the grammar productions\n",
        "productions = [\n",
        "    ('S', 'AB'),\n",
        "    ('S', 'BA'),\n",
        "    ('A', 'BB'),\n",
        "    ('A', 'a'),\n",
        "    ('B', 'AA'),\n",
        "    ('B', 'b')\n",
        "]\n",
        "\n",
        "# Input string\n",
        "input_str = \"baabb\"\n",
        "\n",
        "# Run CYK algorithm\n",
        "cyk_table = cyk_algorithm(input_str)\n",
        "\n",
        "# Check if the start symbol 'S' is in the top-right corner of the table\n",
        "if 'S' in cyk_table[0][-1]:\n",
        "    print(f\"The input string '{input_str}' is generated by the grammar.\")\n",
        "else:\n",
        "    print(f\"The input string '{input_str}' is NOT generated by the grammar.\")\n",
        "\n",
        "# Print the CYK table\n",
        "for i in range(len(cyk_table)):\n",
        "    for j in range(len(cyk_table[i])):\n",
        "        print(f\"({i},{j}): {cyk_table[i][j]}\")\n"
      ],
      "metadata": {
        "colab": {
          "base_uri": "https://localhost:8080/"
        },
        "id": "2MDOR-KrZieY",
        "outputId": "9658ed7f-bcb5-48cf-ca86-68a27da6c80e"
      },
      "execution_count": 12,
      "outputs": [
        {
          "output_type": "stream",
          "name": "stdout",
          "text": [
            "The input string 'baabb' is NOT generated by the grammar.\n",
            "(0,0): {'b'}\n",
            "(0,1): set()\n",
            "(0,2): set()\n",
            "(0,3): set()\n",
            "(0,4): set()\n",
            "(1,0): set()\n",
            "(1,1): {'a'}\n",
            "(1,2): set()\n",
            "(1,3): set()\n",
            "(1,4): set()\n",
            "(2,0): set()\n",
            "(2,1): set()\n",
            "(2,2): {'a'}\n",
            "(2,3): set()\n",
            "(2,4): set()\n",
            "(3,0): set()\n",
            "(3,1): set()\n",
            "(3,2): set()\n",
            "(3,3): {'b'}\n",
            "(3,4): set()\n",
            "(4,0): set()\n",
            "(4,1): set()\n",
            "(4,2): set()\n",
            "(4,3): set()\n",
            "(4,4): {'b'}\n"
          ]
        }
      ]
    }
  ]
}